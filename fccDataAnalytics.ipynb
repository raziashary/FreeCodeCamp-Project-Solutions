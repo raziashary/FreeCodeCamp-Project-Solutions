{
 "cells": [
  {
   "cell_type": "code",
   "execution_count": 1,
   "metadata": {},
   "outputs": [],
   "source": [
    "import pandas as pd\n",
    "import seaborn as sns\n",
    "import matplotlib.pyplot as plt\n",
    "import numpy as np"
   ]
  },
  {
   "cell_type": "code",
   "execution_count": 2,
   "metadata": {},
   "outputs": [
    {
     "name": "stdout",
     "output_type": "stream",
     "text": [
      "2.3.0+cu121\n"
     ]
    }
   ],
   "source": [
    "import torch \n",
    "print(torch.__version__)"
   ]
  },
  {
   "cell_type": "markdown",
   "metadata": {},
   "source": [
    "**PROJECT 1 TESTING OF FCC DATA ANALYTICS**"
   ]
  },
  {
   "cell_type": "code",
   "execution_count": 5,
   "metadata": {},
   "outputs": [],
   "source": [
    "def calculations(list):\n",
    "    try:\n",
    "        if len(list) >= 9:\n",
    "            matrix = np.array(list).reshape(3, 3)\n",
    "            dictionary = {\n",
    "                'mean': [matrix.mean(axis=0).tolist(), matrix.mean(axis=1).tolist(), matrix.mean().tolist()],\n",
    "                'variance': [matrix.var(axis=0).tolist(), matrix.var(axis=1).tolist(), matrix.var().tolist()],\n",
    "                'standard deviation': [matrix.std(axis=0).tolist(), matrix.std(axis=1).tolist(), matrix.std().tolist()],\n",
    "                'max': [matrix.max(axis=0).tolist(), matrix.max(axis=1).tolist(), matrix.max().tolist()],\n",
    "                'min': [matrix.min(axis=0).tolist(), matrix.min(axis=1).tolist(), matrix.min().tolist()],\n",
    "                'sum': [matrix.sum(axis=0).tolist(), matrix.sum(axis=1).tolist(), matrix.sum().tolist()]\n",
    "            }\n",
    "            return dictionary\n",
    "    except ValueError:\n",
    "        print(\"List must contain nine numbers.\") "
   ]
  },
  {
   "cell_type": "code",
   "execution_count": 6,
   "metadata": {},
   "outputs": [
    {
     "data": {
      "text/plain": [
       "{'mean': [[3.6666666666666665, 5.0, 3.0],\n",
       "  [3.3333333333333335, 4.0, 4.333333333333333],\n",
       "  3.888888888888889],\n",
       " 'variance': [[9.555555555555557, 0.6666666666666666, 8.666666666666666],\n",
       "  [3.555555555555556, 10.666666666666666, 6.222222222222221],\n",
       "  6.987654320987654],\n",
       " 'standard deviation': [[3.091206165165235,\n",
       "   0.816496580927726,\n",
       "   2.943920288775949],\n",
       "  [1.8856180831641267, 3.265986323710904, 2.494438257849294],\n",
       "  2.6434171674156266],\n",
       " 'max': [[8, 6, 7], [6, 8, 7], 8],\n",
       " 'min': [[1, 4, 0], [2, 0, 1], 0],\n",
       " 'sum': [[11, 15, 9], [10, 12, 13], 35]}"
      ]
     },
     "execution_count": 6,
     "metadata": {},
     "output_type": "execute_result"
    }
   ],
   "source": [
    "calculations([2,6,2,8,4,0,1,5,7])"
   ]
  },
  {
   "cell_type": "code",
   "execution_count": 4,
   "metadata": {},
   "outputs": [
    {
     "data": {
      "text/plain": [
       "{'mean': [[3.6666666666666665, 5.0, 3.0],\n",
       "  [3.3333333333333335, 4.0, 4.333333333333333],\n",
       "  3.888888888888889],\n",
       " 'variance': [[9.555555555555557, 0.6666666666666666, 8.666666666666666],\n",
       "  [3.555555555555556, 10.666666666666666, 6.222222222222221],\n",
       "  6.987654320987654],\n",
       " 'standard deviation': [[3.091206165165235,\n",
       "   0.816496580927726,\n",
       "   2.943920288775949],\n",
       "  [1.8856180831641267, 3.265986323710904, 2.494438257849294],\n",
       "  2.6434171674156266],\n",
       " 'max': [[8, 6, 7], [6, 8, 7], 8],\n",
       " 'min': [[1, 4, 0], [2, 0, 1], 0],\n",
       " 'sum': [[11, 15, 9], [10, 12, 13], 35]}"
      ]
     },
     "execution_count": 4,
     "metadata": {},
     "output_type": "execute_result"
    }
   ],
   "source": [
    "expected = {'mean': [[3.6666666666666665, 5.0, 3.0], [3.3333333333333335, 4.0, 4.333333333333333], 3.888888888888889], 'variance': [[9.555555555555557, 0.6666666666666666, 8.666666666666666], [3.555555555555556, 10.666666666666666, 6.222222222222221], 6.987654320987654], 'standard deviation': [[3.091206165165235, 0.816496580927726, 2.943920288775949], [1.8856180831641267, 3.265986323710904, 2.494438257849294], 2.6434171674156266], 'max': [[8, 6, 7], [6, 8, 7], 8], 'min': [[1, 4, 0], [2, 0, 1], 0], 'sum': [[11, 15, 9], [10, 12, 13], 35]}\n",
    "expected"
   ]
  },
  {
   "cell_type": "markdown",
   "metadata": {},
   "source": [
    "**PROJECT 2 FCC DATA ANALYTICS**"
   ]
  },
  {
   "cell_type": "code",
   "execution_count": 5,
   "metadata": {},
   "outputs": [],
   "source": [
    "def calculate_demographic_data(print_data=True):\n",
    "    # Read data from file\n",
    "    df = pd.read_csv('C:\\\\Belajar Kode\\\\FreeCodeCamp\\\\Data Analytics\\\\adult.data.csv')\n",
    "\n",
    "    # How many of each race are represented in this dataset? This should be a Pandas series with race names as the index labels.\n",
    "    race_count = df['race'].value_counts()\n",
    "    race_count = race_count.tolist()\n",
    "\n",
    "    # What is the average age of men?\n",
    "    average_age_men = df[df['sex'] == 'Male']['age'].mean()\n",
    "    average_age_men = average_age_men.round(1)\n",
    "\n",
    "    # What is the percentage of people who have a Bachelor's degree?\n",
    "    education_total = df['education'].count()\n",
    "    bachelor_total = df['education'].value_counts().get('Bachelors', 0)\n",
    "    percentage_bachelors = (bachelor_total/education_total) * 100\n",
    "\n",
    "    # What percentage of people with advanced education (`Bachelors`, `Masters`, or `Doctorate`) make more than 50K?\n",
    "    # What percentage of people without advanced education make more than 50K?\n",
    "\n",
    "    # with and without `Bachelors`, `Masters`, or `Doctorate`\n",
    "    higher_education = df[df['education'].isin(['Bachelors', 'Masters', 'Doctorate'])]\n",
    "    lower_education = df[df['education'].isin(['Bachelors', 'Masters', 'Doctorate']).eq(False)]\n",
    "\n",
    "    # percentage with salary >50K\n",
    "    advanced_education_above50 = higher_education[higher_education['salary'] == '>50K']\n",
    "    percentage_above_edu_50 = ((len(advanced_education_above50) / len(higher_education)) * 100)\n",
    "    higher_education_rich = round(percentage_above_edu_50, 1)\n",
    "    \n",
    "    low_edu_above50 = lower_education[lower_education['salary'] == '>50K']\n",
    "    percentage_low_edu = (len(low_edu_above50) / len(lower_education) * 100)\n",
    "    lower_education_rich = round(percentage_low_edu, 1)\n",
    "\n",
    "    # What is the minimum number of hours a person works per week (hours-per-week feature)?\n",
    "    min_work_hours = df['hours-per-week'].min()\n",
    "\n",
    "    # What percentage of the people who work the minimum number of hours per week have a salary of >50K?\n",
    "    num_min_workers = df[df['hours-per-week'] == df['hours-per-week'].min()]\n",
    "    min_worker_50k = num_min_workers[num_min_workers['salary'] == '>50K']\n",
    "    rich_percentage = (len(min_worker_50k) / len(num_min_workers)) * 100\n",
    "\n",
    "    # What country has the highest percentage of people that earn >50K?\n",
    "    highsalary = df[df['salary'] == '>50K']\n",
    "    countrygroup = highsalary.groupby('native-country')\n",
    "    percentage_by_country = (countrygroup.size() / df.groupby('native-country').size()) * 100\n",
    "    highest_earning_country = percentage_by_country.idxmax()\n",
    "    highest_earning_country_percentage = percentage_by_country.max().round(1)\n",
    "\n",
    "    # Identify the most popular occupation for those who earn >50K in India.\n",
    "    salary_high_india = df[(df['salary'] == '>50K') & (df['native-country'] == 'India')]\n",
    "    popular_occupation = salary_high_india['occupation'].value_counts()\n",
    "    top_IN_occupation = popular_occupation.idxmax()\n",
    "\n",
    "    # DO NOT MODIFY BELOW THIS LINE\n",
    "\n",
    "    if print_data:\n",
    "        print(\"Number of each race:\\n\", race_count) \n",
    "        print(\"Average age of men:\", average_age_men)\n",
    "        print(f\"Percentage with Bachelors degrees: {percentage_bachelors}%\")\n",
    "        print(f\"Percentage with higher education that earn >50K: {higher_education_rich}%\")\n",
    "        print(f\"Percentage without higher education that earn >50K: {lower_education_rich}%\")\n",
    "        print(f\"Min work time: {min_work_hours} hours/week\")\n",
    "        print(f\"Percentage of rich among those who work fewest hours: {rich_percentage}%\")\n",
    "        print(\"Country with highest percentage of rich:\", highest_earning_country)\n",
    "        print(f\"Highest percentage of rich people in country: {highest_earning_country_percentage}%\")\n",
    "        print(\"Top occupations in India:\", top_IN_occupation)\n",
    "\n",
    "    return {\n",
    "        'race_count': race_count,\n",
    "        'average_age_men': average_age_men,\n",
    "        'percentage_bachelors': percentage_bachelors,\n",
    "        'higher_education_rich': higher_education_rich,\n",
    "        'lower_education_rich': lower_education_rich,\n",
    "        'min_work_hours': min_work_hours,\n",
    "        'rich_percentage': rich_percentage,\n",
    "        'highest_earning_country': highest_earning_country,\n",
    "        'highest_earning_country_percentage':\n",
    "        highest_earning_country_percentage,\n",
    "        'top_IN_occupation': top_IN_occupation\n",
    "    }\n"
   ]
  },
  {
   "cell_type": "markdown",
   "metadata": {},
   "source": [
    "**PROJECT 3 OF MEDICAL ANALYSIS**"
   ]
  },
  {
   "cell_type": "code",
   "execution_count": 6,
   "metadata": {},
   "outputs": [],
   "source": [
    "# Import data\n",
    "df = pd.read_csv('C:\\Belajar Kode\\FreeCodeCamp\\Data Analytics\\medical_examination.csv')\n",
    "\n",
    "# Add 'overweight' column\n",
    "def calculate_bmi(height, weight):\n",
    "    # Convert height to meters\n",
    "    height_meters = height / 100\n",
    "    # Calculate BMI\n",
    "    bmi = weight / (height_meters ** 2)\n",
    "    return bmi\n",
    "\n",
    "df['bmi'] = df.apply(lambda row: calculate_bmi(row['height'], row['weight']), axis=1)\n",
    "df['bmi'] = df['bmi'].round(1)\n",
    "\n",
    "bmi_threshold = 25\n",
    "df['overweight'] = df['bmi'].apply(lambda x: 1 if x > 25 else 0 )\n",
    "\n",
    "# Normalize data by making 0 always good and 1 always bad. If the value of 'cholesterol' or 'gluc' is 1, make the value 0. If the value is more than 1, make the value 1.\n",
    "df['cholesterol'] = df['cholesterol'].apply(lambda x: 0 if x == 1 else 1)\n",
    "df['gluc'] = df['gluc'].apply(lambda x: 0 if x == 1 else 1)\n",
    "\n",
    "# Draw Categorical Plot\n",
    "def draw_cat_plot():\n",
    "    # Create DataFrame for cat plot using `pd.melt` using just the values from 'cholesterol', 'gluc', 'smoke', 'alco', 'active', and 'overweight'.\n",
    "    selected_columns = ['cholesterol', 'gluc', 'smoke', 'alco', 'active', 'overweight']\n",
    "    df_cat = pd.melt(df, id_vars=['id', 'cardio'], value_vars=selected_columns, var_name='variable', value_name='value')\n",
    "\n",
    "    # Group and reformat the data to split it by 'cardio'. Show the counts of each feature. You will have to rename one of the columns for the catplot to work correctly.\n",
    "    df_cat = df_cat.groupby(['cardio', 'variable', 'value']).size().reset_index(name='count')\n",
    "    \n",
    "    # Draw the catplot with 'sns.catplot()'\n",
    "    sns.catplot(x='variable', hue='value', col='cardio', y='count', \n",
    "                data=df_cat, kind='bar', height=5, aspect=1.2)\n",
    "    \n",
    "    plt.show()\n",
    "\n",
    "    # Get the figure for the output\n",
    "    #fig = plt.gcf() \n",
    "\n",
    "    # Do not modify the next two lines\n",
    "    #fig.savefig('catplot.png')\n",
    "    #return fig\n",
    "\n",
    "\n",
    "# Draw Heat Map\n",
    "def draw_heat_map():\n",
    "    # Clean the data\n",
    "    df_heat = df\n",
    "    df_heat = df_heat[df_heat['ap_lo'] <= df_heat['ap_hi']]\n",
    "\n",
    "    df_heat = df_heat[df_heat['height'] >= df_heat['height'].quantile(0.025)]\n",
    "    df_heat = df_heat[df_heat['height'] <= df_heat['height'].quantile(0.975)]\n",
    "\n",
    "    df_heat = df_heat[df_heat['weight'] >= df_heat['weight'].quantile(0.025)]\n",
    "    df_heat = df_heat[df_heat['weight'] <= df_heat['weight'].quantile(0.975)]\n",
    "\n",
    "    # Calculate the correlation matrix\n",
    "    corr = df_heat.corr()\n",
    "\n",
    "    # Generate a mask for the upper triangle\n",
    "    mask = np.triu(np.ones_like(corr, dtype=bool))\n",
    "\n",
    "    # Set up the matplotlib figure\n",
    "    fig, ax = plt.subplots(figsize=(10, 8))\n",
    "\n",
    "    # Draw the heatmap with 'sns.heatmap()'\n",
    "    sns.heatmap(corr, mask=mask, annot=True, fmt=\".1f\", cmap='icefire', \n",
    "                vmax=0.24, center=0, square=True, linewidths=.5, cbar_kws={\"shrink\": .5})\n",
    "    plt.show()\n",
    "\n",
    "    # Do not modify the next two lines\n",
    "    #fig.savefig('heatmap.png')\n",
    "    #return fig\n"
   ]
  },
  {
   "cell_type": "markdown",
   "metadata": {},
   "source": [
    "**PROJECT 4 FREECODECAMP DATA ANALYSIS**"
   ]
  },
  {
   "cell_type": "code",
   "execution_count": 7,
   "metadata": {},
   "outputs": [],
   "source": [
    "from pandas.plotting import register_matplotlib_converters\n",
    "register_matplotlib_converters()"
   ]
  },
  {
   "cell_type": "code",
   "execution_count": 8,
   "metadata": {},
   "outputs": [],
   "source": [
    "# Import data (Make sure to parse dates. Consider setting index column to 'date'.)\n",
    "df = pd.read_csv('C:\\\\Belajar Kode\\\\FreeCodeCamp\\\\Data Analytics\\\\fcc-forum-pageviews.csv')\n",
    "df['date'] = pd.to_datetime(df['date'])\n",
    "df = df.set_index(df['date'])\n",
    "df = df.drop(['date'], axis=1)\n",
    "\n",
    "# Clean data\n",
    "df = df[(df['value'] > df['value'].quantile(0.025)) & (df['value'] < df['value'].quantile(0.975))]\n",
    "\n",
    "def draw_line_plot():\n",
    "    # Draw line plot\n",
    "    fig, ax = plt.subplots(figsize=(15,6))\n",
    "    ax.plot(df.index, df[df.columns[0]], color='red', label=df.columns[0])\n",
    "    \n",
    "    # Set the title and labels\n",
    "    ax.set_title('Daily freeCodeCamp Forum Page Views 5/2016-12/2019')\n",
    "    ax.set_xlabel('Date')\n",
    "    ax.set_ylabel('Page Views')\n",
    "    plt.xticks(rotation=45)\n",
    "    #plt.tight_layout()\n",
    "    #plt.show()\n",
    "\n",
    "    # Save image and return fig (don't change this part)\n",
    "    fig.savefig('line_plot.png')\n",
    "    return fig\n",
    "\n",
    "def draw_bar_plot():\n",
    "    # Copy and modify data for monthly bar plot\n",
    "    df_bar = df.copy()\n",
    "    df_bar['Month'] = df_bar.index.month\n",
    "    df_bar['Year'] = df_bar.index.year\n",
    "    df_bar = df_bar.groupby(['Year', 'Month']).mean().round(0).reset_index()\n",
    "\n",
    "    #Change month into name rather than numbers\n",
    "    import calendar\n",
    "    df_bar['Month'] = df_bar['Month'].apply(lambda x: calendar.month_name[int(x)])\n",
    "    df_bar['Month'] = pd.Categorical(df_bar['Month'], categories=['January', 'February', 'March', 'April', 'May', \n",
    "                                                                'June', 'July', 'August', 'September', 'October',\n",
    "                                                                'November', 'December'], ordered=True)\n",
    "    df_bar\n",
    "\n",
    "    # Draw bar plot\n",
    "    fig, ax = plt.subplots(figsize=(15, 6))\n",
    "\n",
    "    # Plot the bar chart and set color\n",
    "    pal = sns.color_palette(\"magma\", len(df_bar['Month'].unique()))\n",
    "    sns.barplot(x='Year', y='value', hue='Month', data=df_bar, palette = pal, ci=None, ax=ax)\n",
    "\n",
    "    # Set labels and title\n",
    "    ax.set_xlabel('Years')\n",
    "    ax.set_ylabel('Average Page Views')\n",
    "    ax.set_title('Average Daily Page Views per Month by Year')\n",
    "\n",
    "    # Set legend title and position\n",
    "    ax.legend(title='Months', loc='upper left')\n",
    "\n",
    "    # Show plot\n",
    "    #plt.tight_layout()\n",
    "    #plt.show()\n",
    "\n",
    "    # Save image and return fig (don't change this part)\n",
    "    fig.savefig('bar_plot.png')\n",
    "    return fig\n",
    "\n",
    "def draw_box_plot():\n",
    "    # Prepare data for box plots (this part is done!)\n",
    "    df_box = df.copy()\n",
    "    df_box.reset_index(inplace=True)\n",
    "    df_box['year'] = [d.year for d in df_box.date]\n",
    "    df_box['month'] = [d.strftime('%b') for d in df_box.date]\n",
    "    df_box['month'] = pd.Categorical(df_box['month'], categories=['Jan', 'Feb', 'Mar', 'Apr', 'May', \n",
    "                                                              'Jun', 'Jul', 'Aug', 'Sep', 'Oct', \n",
    "                                                              'Nov', 'Dec'], ordered=True)\n",
    "\n",
    "    # Draw box plots (using Seaborn)\n",
    "    fig, axes = plt.subplots(1, 2, figsize=(18, 6))\n",
    "\n",
    "    # Plot the first box plot on the first subplot\n",
    "    palette_axes0 = sns.color_palette(\"seismic\", len(df_box['year'].unique()))\n",
    "    sns.boxplot(x='year', y='value', data=df_box, palette=palette_axes0, ax=axes[0])\n",
    "\n",
    "    # Set the title for the first subplot\n",
    "    axes[0].set_title('Year-wise Box Plot (Trend)')\n",
    "    axes[0].set_xlabel('Year')\n",
    "    axes[0].set_ylabel('Page Views')\n",
    "\n",
    "    #Plot second boxplot\n",
    "    palette_axes1 = sns.color_palette()\n",
    "    sns.boxplot(x='month', y='value', data=df_box, palette= palette_axes1, ax=axes[1])\n",
    "\n",
    "    # Set the title for the second subplot\n",
    "    axes[1].set_title('Month-wise Box Plot (Seasonality)')\n",
    "    axes[1].set_xlabel('Month')\n",
    "    axes[1].set_ylabel('Page Views')\n",
    "\n",
    "    # Adjust layout and show plot\n",
    "    #plt.tight_layout()\n",
    "    #plt.show()\n",
    "\n",
    "    # Save image and return fig (don't change this part)\n",
    "    fig.savefig('box_plot.png')\n",
    "    return fig\n"
   ]
  },
  {
   "cell_type": "markdown",
   "metadata": {},
   "source": [
    "**PROJECT 5**"
   ]
  },
  {
   "cell_type": "code",
   "execution_count": 9,
   "metadata": {},
   "outputs": [],
   "source": [
    "from scipy.stats import linregress"
   ]
  },
  {
   "cell_type": "code",
   "execution_count": 10,
   "metadata": {},
   "outputs": [],
   "source": [
    "def draw_plot():\n",
    "    # Read data from file\n",
    "    data = pd.read_csv('C:\\\\Belajar Kode\\\\FreeCodeCamp\\\\Data Analytics\\\\epa-sea-level.csv') \n",
    "    years = data[\"Year\"]\n",
    "    sea_level = data[\"CSIRO Adjusted Sea Level\"]\n",
    "\n",
    "    # Create scatter plot\n",
    "    plt.figure(figsize=(10, 6))\n",
    "    plt.scatter(years, sea_level, label='Sea Level')\n",
    "    plt.xlabel(\"Year\")\n",
    "    plt.ylabel(\"Sea Level (inches)\")\n",
    "    plt.title(\"Rise in Sea Level\")\n",
    "\n",
    "    # Create first line of best fit\n",
    "    slope, intercept, r_value, p_value, std_err = linregress(years, sea_level)\n",
    "    x_all = range(1880, 2051)  # Extend x-axis to include 2050\n",
    "    plt.plot(x_all, intercept + slope * x_all, 'r', label='Line of Best Fit')\n",
    "\n",
    "    # Create second line of best fit\n",
    "    recent_data = data[data[\"Year\"] >= 2000]\n",
    "    recent_years = recent_data[\"Year\"]\n",
    "    recent_sea_level = recent_data[\"CSIRO Adjusted Sea Level\"]\n",
    "    slope_recent, intercept_recent, r_value_recent, p_value_recent, std_err_recent = linregress(\n",
    "        recent_years, recent_sea_level\n",
    "    )\n",
    "    x_recent = range(2000, 2051)\n",
    "    plt.plot(x_recent, intercept_recent + slope_recent * x_recent, 'g', label='Line of Best Fit (2000)')\n",
    "\n",
    "    # Add labels and title\n",
    "    plt.legend()\n",
    "    plt.grid(True)\n",
    "    plt.tight_layout()\n",
    "\n",
    "    # Save plot and return data for testing (DO NOT MODIFY)\n",
    "    plt.savefig('sea_level_plot.png')\n",
    "    return plt.gca()"
   ]
  },
  {
   "cell_type": "code",
   "execution_count": 15,
   "metadata": {},
   "outputs": [
    {
     "name": "stderr",
     "output_type": "stream",
     "text": [
      "C:\\Users\\razia\\AppData\\Local\\Temp\\ipykernel_7720\\1098989202.py:11: FutureWarning: \n",
      "\n",
      "The `ci` parameter is deprecated. Use `errorbar=None` for the same effect.\n",
      "\n",
      "  sns.barplot(x='Year', y='value', hue='Month', data=df_grouped, ci=None)\n"
     ]
    },
    {
     "ename": "AttributeError",
     "evalue": "module 'seaborn' has no attribute 'xlabel'",
     "output_type": "error",
     "traceback": [
      "\u001b[1;31m---------------------------------------------------------------------------\u001b[0m",
      "\u001b[1;31mAttributeError\u001b[0m                            Traceback (most recent call last)",
      "Cell \u001b[1;32mIn[15], line 14\u001b[0m\n\u001b[0;32m     11\u001b[0m sns\u001b[38;5;241m.\u001b[39mbarplot(x\u001b[38;5;241m=\u001b[39m\u001b[38;5;124m'\u001b[39m\u001b[38;5;124mYear\u001b[39m\u001b[38;5;124m'\u001b[39m, y\u001b[38;5;241m=\u001b[39m\u001b[38;5;124m'\u001b[39m\u001b[38;5;124mvalue\u001b[39m\u001b[38;5;124m'\u001b[39m, hue\u001b[38;5;241m=\u001b[39m\u001b[38;5;124m'\u001b[39m\u001b[38;5;124mMonth\u001b[39m\u001b[38;5;124m'\u001b[39m, data\u001b[38;5;241m=\u001b[39mdf_grouped, ci\u001b[38;5;241m=\u001b[39m\u001b[38;5;28;01mNone\u001b[39;00m)\n\u001b[0;32m     13\u001b[0m \u001b[38;5;66;03m# Set labels and title\u001b[39;00m\n\u001b[1;32m---> 14\u001b[0m \u001b[43msns\u001b[49m\u001b[38;5;241;43m.\u001b[39;49m\u001b[43mxlabel\u001b[49m(\u001b[38;5;124m'\u001b[39m\u001b[38;5;124mYears\u001b[39m\u001b[38;5;124m'\u001b[39m)\n\u001b[0;32m     15\u001b[0m sns\u001b[38;5;241m.\u001b[39mylabel(\u001b[38;5;124m'\u001b[39m\u001b[38;5;124mAverage Page Views\u001b[39m\u001b[38;5;124m'\u001b[39m)\n\u001b[0;32m     16\u001b[0m sns\u001b[38;5;241m.\u001b[39mtitle(\u001b[38;5;124m'\u001b[39m\u001b[38;5;124mAverage Daily Page Views per Month by Year\u001b[39m\u001b[38;5;124m'\u001b[39m)\n",
      "\u001b[1;31mAttributeError\u001b[0m: module 'seaborn' has no attribute 'xlabel'"
     ]
    },
    {
     "data": {
      "image/png": "[encoded data removed]",
      "text/plain": [
       "<Figure size 1200x600 with 1 Axes>"
      ]
     },
     "metadata": {},
     "output_type": "display_data"
    }
   ],
   "source": [
    "# Create a sample DataFrame\n",
    "df = pd.DataFrame({'Year': [2010, 2011, 2012, 2013, 2014, 2015, 2016, 2017], 'value': [100, 120, 140, 160, 180, 200, 220, 240], 'Month': ['Jan', 'Feb', 'Mar', 'Apr', 'May', 'Jun', 'Jul', 'Aug']})\n",
    "\n",
    "# Group the data by Year and Month\n",
    "df_grouped = df.groupby(['Year', 'Month']).mean().reset_index()\n",
    "\n",
    "# Create a figure and axis\n",
    "fig, ax = plt.subplots(figsize=(12, 6))\n",
    "\n",
    "# Create a barplot\n",
    "sns.barplot(x='Year', y='value', hue='Month', data=df_grouped, ci=None)\n",
    "\n",
    "# Set labels and title\n",
    "sns.xlabel('Years')\n",
    "sns.ylabel('Average Page Views')\n",
    "sns.title('Average Daily Page Views per Month by Year')\n",
    "\n",
    "# Set legend title and position\n",
    "sns.legend(title='Months', loc='upper left')\n",
    "\n",
    "# Show plot\n",
    "plt.tight_layout()\n",
    "plt.show()"
   ]
  }
 ],
 "metadata": {
  "kernelspec": {
   "display_name": "Python 3",
   "language": "python",
   "name": "python3"
  },
  "language_info": {
   "codemirror_mode": {
    "name": "ipython",
    "version": 3
   },
   "file_extension": ".py",
   "mimetype": "text/x-python",
   "name": "python",
   "nbconvert_exporter": "python",
   "pygments_lexer": "ipython3",
   "version": "3.12.3"
  }
 },
 "nbformat": 4,
 "nbformat_minor": 2
}
